{
 "cells": [
  {
   "cell_type": "markdown",
   "metadata": {},
   "source": [
    "# Задание 2.\n",
    "\n",
    "**NB. Все упражнения ниже нужно делать без использования циклов Python в явном (`while`, `for`) и неявном виде (list comprehension, `map`, `reduce` и пр)**\n",
    "\n",
    "Задания по манипуляциям с массивами чаще всего решаются в одно/два выражения. "
   ]
  },
  {
   "cell_type": "code",
   "execution_count": 8,
   "metadata": {},
   "outputs": [
    {
     "data": {
      "text/plain": [
       "array([[94, 48, 82, ..., 32, 62,  6],\n",
       "       [48, 11, 95, ..., 65, 38, 67],\n",
       "       [ 5, 67, 21, ..., 56, 31, 49],\n",
       "       ...,\n",
       "       [13, 45, 16, ..., 60, 87, 95],\n",
       "       [ 3, 96, 56, ..., 75, 69, 70],\n",
       "       [78,  0, 32, ..., 30, 66, 43]])"
      ]
     },
     "execution_count": 8,
     "metadata": {},
     "output_type": "execute_result"
    }
   ],
   "source": [
    "%matplotlib inline\n",
    "\n",
    "import numpy as np\n",
    "import matplotlib.pyplot as plt\n",
    "import seaborn as sns\n",
    "import scipy as sp\n",
    "from scipy.misc import derivative\n",
    "from typing import Union, Callable\n",
    "sns.set_theme()\n",
    "\n",
    "s = np.array([[1,2,3],[4,5,6],[7,8,9],[10,11,12]])\n",
    "A = np.random.randint(0, 100, size=(200, 50))\n",
    "A"
   ]
  },
  {
   "cell_type": "markdown",
   "metadata": {},
   "source": [
    "# Задание 2.1 (2 балла)\n",
    "\n",
    "Сгенерируйте новый массив, в котором столбцы массива `A` переставлены в случайном порядке"
   ]
  },
  {
   "cell_type": "code",
   "execution_count": 3,
   "metadata": {},
   "outputs": [
    {
     "data": {
      "text/plain": [
       "array([[ 2, 42, 69, ..., 55, 26, 70],\n",
       "       [ 9, 78, 59, ..., 60, 21, 95],\n",
       "       [71, 53, 66, ..., 81, 39, 63],\n",
       "       ...,\n",
       "       [22, 52,  1, ..., 47, 86, 25],\n",
       "       [ 0,  8, 52, ...,  8, 50, 33],\n",
       "       [ 9, 49, 15, ..., 93, 97, 95]])"
      ]
     },
     "execution_count": 3,
     "metadata": {},
     "output_type": "execute_result"
    }
   ],
   "source": [
    "B = np.transpose(np.random.permutation(np.transpose(A)))\n",
    "A"
   ]
  },
  {
   "cell_type": "markdown",
   "metadata": {},
   "source": [
    "# Задание 2.2 (5 баллов)\n",
    "\n",
    "Сгенерируйте новый массив, который содержит только те строки массива `A`, в которых: \n",
    "- сумма элементов по четным столбцам (индексы $0, 2, \\ldots$) больше среднего значения (по всему массиву) суммы элементов по нечетным столбцам (индексы $1, 3, \\ldots$) "
   ]
  },
  {
   "cell_type": "code",
   "execution_count": 4,
   "metadata": {},
   "outputs": [
    {
     "data": {
      "text/plain": [
       "array([[ 2, 42, 69, ..., 55, 26, 70],\n",
       "       [ 9, 78, 59, ..., 60, 21, 95],\n",
       "       [71, 53, 66, ..., 81, 39, 63],\n",
       "       ...,\n",
       "       [22, 52,  1, ..., 47, 86, 25],\n",
       "       [ 0,  8, 52, ...,  8, 50, 33],\n",
       "       [ 9, 49, 15, ..., 93, 97, 95]])"
      ]
     },
     "execution_count": 4,
     "metadata": {},
     "output_type": "execute_result"
    }
   ],
   "source": [
    "C = A[A[:,0:len(A[0]):2].sum(axis=1) > A[:,1:len(A[0]):2].mean()]\n",
    "C"
   ]
  },
  {
   "cell_type": "markdown",
   "metadata": {},
   "source": [
    "# Задача 2.3 (3 балла)\n",
    "\n",
    "Найдите индекс строки массива `A`, в которой разница между максимальным и минимальным элементом максимальна"
   ]
  },
  {
   "cell_type": "code",
   "execution_count": 5,
   "metadata": {},
   "outputs": [
    {
     "data": {
      "text/plain": [
       "2"
      ]
     },
     "execution_count": 5,
     "metadata": {},
     "output_type": "execute_result"
    }
   ],
   "source": [
    "i = np.argmax(A.max(axis=1) - A.min(axis=1))\n",
    "i"
   ]
  },
  {
   "cell_type": "markdown",
   "metadata": {},
   "source": [
    "# Задание 2.4 (7 баллов)\n",
    "\n",
    "Сгенерируйте массив той же размерности, что и `A`, но в котором каждый элемент заменен на его порядковый номер (начиная с 1) в отсортированном по возрастанию массиве из элементов `A`\n",
    "\n",
    "Если `A` выглядит так:\n",
    "$$\n",
    "\\begin{pmatrix}\n",
    "12 & 14\\\\\n",
    "1 & 2\n",
    "\\end{pmatrix}\n",
    "$$\n",
    "то результат должен быть\n",
    "$$\n",
    "\\begin{pmatrix}\n",
    "3 & 4\\\\\n",
    "1 & 2\n",
    "\\end{pmatrix}\n",
    "$$\n",
    "\n",
    "*Tip: рассмотрите возможность неоднократного применения [argsort()](https://numpy.org/doc/stable/reference/generated/numpy.ndarray.argsort.html)*"
   ]
  },
  {
   "cell_type": "code",
   "execution_count": 6,
   "metadata": {},
   "outputs": [
    {
     "data": {
      "text/plain": [
       "array([[ 223, 4275, 6870, ..., 5489, 2604, 7036],\n",
       "       [ 885, 7844, 5895, ..., 5978, 2089, 9495],\n",
       "       [7105, 5253, 6614, ..., 8124, 3952, 6315],\n",
       "       ...,\n",
       "       [2119, 5235,  149, ..., 4735, 8635, 2417],\n",
       "       [  77,  781, 5225, ...,  806, 4969, 3283],\n",
       "       [ 896, 4885, 1405, ..., 9378, 9792, 9539]], dtype=int64)"
      ]
     },
     "execution_count": 6,
     "metadata": {},
     "output_type": "execute_result"
    }
   ],
   "source": [
    "D = np.argsort(np.argsort(A, axis=None)).reshape(A.shape) + 1\n",
    "D\n"
   ]
  },
  {
   "cell_type": "markdown",
   "metadata": {},
   "source": [
    "# Задание 2.5 (2 балла)\n",
    "\n",
    "Примените $\\min-\\max$ - нормализацию к строкам массива `A`. То есть нужно получить новый массивы, в каждой строке которого максимальный элементы равен $1$, минимальный - $0$. "
   ]
  },
  {
   "cell_type": "code",
   "execution_count": 84,
   "metadata": {},
   "outputs": [
    {
     "data": {
      "text/plain": [
       "array([[0.85263158, 0.66315789, 0.47368421, ..., 1.        , 0.50526316,\n",
       "        0.34736842],\n",
       "       [0.18681319, 0.81318681, 0.08791209, ..., 0.95604396, 0.        ,\n",
       "        0.1978022 ],\n",
       "       [0.19191919, 0.43434343, 0.04040404, ..., 0.61616162, 0.37373737,\n",
       "        0.67676768],\n",
       "       ...,\n",
       "       [0.52083333, 0.60416667, 0.83333333, ..., 0.48958333, 0.26041667,\n",
       "        0.80208333],\n",
       "       [0.625     , 0.05208333, 0.125     , ..., 0.84375   , 0.61458333,\n",
       "        0.04166667],\n",
       "       [0.18367347, 0.47959184, 0.95918367, ..., 0.7244898 , 0.03061224,\n",
       "        0.58163265]])"
      ]
     },
     "execution_count": 84,
     "metadata": {},
     "output_type": "execute_result"
    }
   ],
   "source": [
    "E = (A - A.min(axis=1)[:, None]) / (A.max(axis=1)[:, None] - A.min(axis=1)[:, None])\n",
    "E"
   ]
  },
  {
   "cell_type": "markdown",
   "metadata": {},
   "source": [
    "# Задание 2.6 (2 балла)\n",
    "\n",
    "Сгенерируйте новый трехмерный массив, размерности $10 \\times 200 \\times 50$. Подмассивы по нулевой оси должны состоять из элементов `A`, умноженных на $1 - 10$ соответственно"
   ]
  },
  {
   "cell_type": "code",
   "execution_count": 7,
   "metadata": {},
   "outputs": [
    {
     "name": "stdout",
     "output_type": "stream",
     "text": [
      "(10, 200, 50)\n"
     ]
    },
    {
     "data": {
      "text/plain": [
       "array([[[  2,  42,  69, ...,  55,  26,  70],\n",
       "        [  9,  78,  59, ...,  60,  21,  95],\n",
       "        [ 71,  53,  66, ...,  81,  39,  63],\n",
       "        ...,\n",
       "        [ 22,  52,   1, ...,  47,  86,  25],\n",
       "        [  0,   8,  52, ...,   8,  50,  33],\n",
       "        [  9,  49,  15, ...,  93,  97,  95]],\n",
       "\n",
       "       [[  4,  84, 138, ..., 110,  52, 140],\n",
       "        [ 18, 156, 118, ..., 120,  42, 190],\n",
       "        [142, 106, 132, ..., 162,  78, 126],\n",
       "        ...,\n",
       "        [ 44, 104,   2, ...,  94, 172,  50],\n",
       "        [  0,  16, 104, ...,  16, 100,  66],\n",
       "        [ 18,  98,  30, ..., 186, 194, 190]],\n",
       "\n",
       "       [[  6, 126, 207, ..., 165,  78, 210],\n",
       "        [ 27, 234, 177, ..., 180,  63, 285],\n",
       "        [213, 159, 198, ..., 243, 117, 189],\n",
       "        ...,\n",
       "        [ 66, 156,   3, ..., 141, 258,  75],\n",
       "        [  0,  24, 156, ...,  24, 150,  99],\n",
       "        [ 27, 147,  45, ..., 279, 291, 285]],\n",
       "\n",
       "       ...,\n",
       "\n",
       "       [[ 16, 336, 552, ..., 440, 208, 560],\n",
       "        [ 72, 624, 472, ..., 480, 168, 760],\n",
       "        [568, 424, 528, ..., 648, 312, 504],\n",
       "        ...,\n",
       "        [176, 416,   8, ..., 376, 688, 200],\n",
       "        [  0,  64, 416, ...,  64, 400, 264],\n",
       "        [ 72, 392, 120, ..., 744, 776, 760]],\n",
       "\n",
       "       [[ 18, 378, 621, ..., 495, 234, 630],\n",
       "        [ 81, 702, 531, ..., 540, 189, 855],\n",
       "        [639, 477, 594, ..., 729, 351, 567],\n",
       "        ...,\n",
       "        [198, 468,   9, ..., 423, 774, 225],\n",
       "        [  0,  72, 468, ...,  72, 450, 297],\n",
       "        [ 81, 441, 135, ..., 837, 873, 855]],\n",
       "\n",
       "       [[ 20, 420, 690, ..., 550, 260, 700],\n",
       "        [ 90, 780, 590, ..., 600, 210, 950],\n",
       "        [710, 530, 660, ..., 810, 390, 630],\n",
       "        ...,\n",
       "        [220, 520,  10, ..., 470, 860, 250],\n",
       "        [  0,  80, 520, ...,  80, 500, 330],\n",
       "        [ 90, 490, 150, ..., 930, 970, 950]]])"
      ]
     },
     "execution_count": 7,
     "metadata": {},
     "output_type": "execute_result"
    }
   ],
   "source": [
    "F = A.reshape(1, len(A), len(A[0]))\n",
    "new_arr = np.concatenate((F, 2*F, 3*F, 4*F, 5*F, 6*F, 7*F, 8*F, 9*F, 10*F))\n",
    "print(new_arr.shape)\n",
    "new_arr"
   ]
  },
  {
   "cell_type": "markdown",
   "metadata": {},
   "source": [
    "# Задание 2.7 (2 балла)\n",
    "\n",
    "Создайте новый массив, такой же размерности, как и `A`, в котором сначала сгруппированы четные столбцы `A`, потом  нечетные. Используйте [np.concat()](https://numpy.org/doc/stable/reference/generated/numpy.concatenate.html) "
   ]
  },
  {
   "cell_type": "code",
   "execution_count": 86,
   "metadata": {},
   "outputs": [
    {
     "data": {
      "text/plain": [
       "array([[82, 46,  6, ...,  1, 96, 34],\n",
       "       [20, 11, 46, ..., 33, 90, 21],\n",
       "       [19,  4, 29, ..., 82, 61, 67],\n",
       "       ...,\n",
       "       [52, 82, 95, ..., 41, 49, 79],\n",
       "       [63, 15, 38, ..., 52, 84,  7],\n",
       "       [18, 94, 94, ..., 98, 71, 57]])"
      ]
     },
     "execution_count": 86,
     "metadata": {},
     "output_type": "execute_result"
    }
   ],
   "source": [
    "G = np.concatenate((A[:,0:len(A[0]):2], A[:,1:len(A[0]):2]), axis=1)\n",
    "G"
   ]
  },
  {
   "cell_type": "markdown",
   "metadata": {},
   "source": [
    "# Задание 2.8 (2 балла)\n",
    "\n",
    "Посчитайте количество строк массива `A`, в который все элементы больше 5. Используйте [np.all()](https://numpy.org/doc/stable/reference/generated/numpy.all.html) "
   ]
  },
  {
   "cell_type": "code",
   "execution_count": 87,
   "metadata": {},
   "outputs": [
    {
     "data": {
      "text/plain": [
       "8"
      ]
     },
     "execution_count": 87,
     "metadata": {},
     "output_type": "execute_result"
    }
   ],
   "source": [
    "len(A[np.all(A > 5, axis=1)])"
   ]
  },
  {
   "cell_type": "markdown",
   "metadata": {},
   "source": [
    "# Задание 2.9 (2 балла)\n",
    "\n",
    "Поделите массив `A` горизонтально на 10 частей и создайте новый массив размерности $20 \\times 50$, который является средним этих частей. Используйте [np.split()](https://numpy.org/doc/stable/reference/generated/numpy.split.html)"
   ]
  },
  {
   "cell_type": "code",
   "execution_count": 88,
   "metadata": {},
   "outputs": [
    {
     "data": {
      "text/plain": [
       "array([[61.7, 37.1, 44.2, 44.9, 45.1, 43.3, 50.2, 48.6, 47.6, 46.3, 49.4,\n",
       "        49.4, 46.2, 53.8, 33.4, 67.7, 57. , 46.8, 55.1, 31. , 43.9, 35.4,\n",
       "        50.1, 42.8, 50.5, 32.8, 61.7, 57.7, 51.1, 33.7, 56.8, 52.7, 53.7,\n",
       "        46.9, 61.5, 41.7, 76.8, 41.7, 39.2, 61.5, 55.1, 60.4, 47.5, 48.7,\n",
       "        57.5, 51.9, 47.3, 49.2, 55.5, 51.7],\n",
       "       [36.6, 60.2, 47.1, 62.5, 59.6, 32.7, 42.9, 42.7, 51.5, 45. , 61.3,\n",
       "        59.1, 49.5, 40.8, 37.6, 40.8, 18.4, 29.6, 41.3, 55.4, 51.8, 54.2,\n",
       "        50.2, 55.7, 44.2, 42.3, 41.4, 66. , 35.1, 33. , 36.4, 37.3, 33.2,\n",
       "        59.1, 49.2, 58.5, 45.5, 42.5, 49. , 49.1, 38.3, 44.1, 46.3, 37.9,\n",
       "        52.8, 40. , 47.3, 54. , 31.8, 42.8],\n",
       "       [46.7, 58.7, 40.6, 42.8, 51.4, 35.1, 43.2, 70.3, 35.5, 54.7, 42.3,\n",
       "        49.1, 56.2, 45.3, 46.4, 50.6, 42.6, 45.6, 57. , 43.9, 50.3, 32.9,\n",
       "        56.3, 47.4, 48.8, 50. , 58.5, 52.3, 45.8, 66.1, 60.4, 47.4, 61.1,\n",
       "        48.1, 53.9, 41.1, 42.6, 50.6, 47.8, 33.7, 37.1, 54.6, 35.5, 42.8,\n",
       "        39. , 61.6, 58.5, 57.4, 57.9, 56.2],\n",
       "       [58.7, 59.2, 31.8, 42.8, 37.9, 54.6, 45.2, 45.9, 44.5, 52.7, 46.7,\n",
       "        56.6, 40.3, 57.7, 70.9, 54.5, 42.5, 51.1, 73.4, 47.8, 41.1, 43.3,\n",
       "        37.2, 45.7, 61.5, 46.4, 43.4, 54.9, 54.8, 63.7, 53.5, 49.7, 45.2,\n",
       "        49.7, 52. , 63.5, 37.3, 47.2, 41.4, 48.1, 60.7, 35.1, 61. , 48.1,\n",
       "        51.9, 52.3, 61.4, 47.3, 47.2, 60.1],\n",
       "       [50.5, 55.9, 33.9, 47.6, 51.4, 55.5, 50.7, 38.6, 32. , 54.3, 54.7,\n",
       "        45.5, 56.6, 66. , 41.8, 37.2, 54.7, 47.4, 54.1, 44.5, 48.7, 52.2,\n",
       "        49.2, 54.5, 55.8, 62.4, 42.1, 43. , 48.7, 39.5, 45.6, 55.4, 34.1,\n",
       "        50.9, 54.7, 56.8, 48.6, 51.9, 62. , 58.1, 59.3, 53. , 41. , 43.5,\n",
       "        26.1, 37.9, 46.2, 49.1, 45.6, 49.6],\n",
       "       [36.6, 45.7, 41.2, 63.5, 49.4, 47.5, 46.7, 47.8, 36.6, 38.2, 34.9,\n",
       "        58.7, 42.7, 48.2, 57.2, 72.2, 47.7, 43.2, 42.4, 70.8, 52.1, 38.8,\n",
       "        59.9, 35.7, 71.3, 36.5, 49.3, 34.8, 33.6, 37.6, 42.2, 37.6, 41.5,\n",
       "        60.3, 67.3, 68.6, 48.3, 38.3, 57.3, 43. , 50.8, 63.4, 45.6, 48.5,\n",
       "        54.7, 41.6, 51.1, 46.7, 44.9, 57. ],\n",
       "       [42.9, 50.7, 49.9, 62.1, 31.6, 64.5, 43.2, 45.2, 57.9, 40.9, 72.1,\n",
       "        40.7, 45.1, 39.5, 46.5, 57. , 31.1, 50.9, 76.5, 47.4, 49. , 37.7,\n",
       "        40.5, 59.4, 51.7, 47.5, 50.9, 39.8, 55.3, 39.7, 59.2, 53.2, 39.5,\n",
       "        58.8, 64. , 59.1, 62.2, 39.9, 44.9, 45.4, 35.7, 45.7, 47. , 51.7,\n",
       "        36.1, 76. , 39.8, 39.3, 57.5, 44. ],\n",
       "       [46.9, 37.4, 38.7, 64.5, 49.7, 46.8, 61.2, 47. , 48.3, 37.5, 52.9,\n",
       "        41.4, 40. , 56.2, 60.8, 44.2, 38.9, 55.2, 43.5, 53.3, 45.6, 48.6,\n",
       "        56.2, 47.9, 53.9, 45. , 56.1, 42.1, 60.5, 29.3, 29.6, 56.8, 46.4,\n",
       "        44.9, 52.6, 49.1, 50.9, 31.6, 34.8, 42.6, 46.9, 55. , 65.6, 56.7,\n",
       "        48.3, 54.8, 48.2, 56.4, 25.6, 46.2],\n",
       "       [47.7, 48.1, 68.1, 63. , 41.7, 53.5, 43.5, 40.8, 28.8, 64.9, 48.5,\n",
       "        59.3, 47.4, 57.4, 69.7, 52.9, 37.6, 58.2, 54.8, 51.2, 37.2, 37. ,\n",
       "        47.2, 47.1, 52.9, 39. , 55.3, 44.8, 35.9, 60.6, 47.5, 42.4, 59.2,\n",
       "        61.3, 26.5, 66.4, 63. , 58.5, 51.5, 38.9, 50.4, 40.9, 40.1, 47.2,\n",
       "        52.2, 59.7, 32.8, 57.9, 31.9, 49.1],\n",
       "       [49.8, 57.3, 63.9, 51.2, 39.2, 43.5, 47.6, 55.2, 56.9, 57.8, 37.7,\n",
       "        37.1, 47.4, 35.4, 60.6, 41.5, 49.7, 39.5, 46.1, 47.3, 44.6, 53.4,\n",
       "        80. , 60.5, 55.6, 47.2, 53.6, 58.7, 63.2, 53.3, 54.5, 56.3, 45.5,\n",
       "        58.9, 45.1, 46.5, 46.7, 67.3, 61.8, 39.7, 62.3, 36.1, 60.6, 31.6,\n",
       "        38.5, 42.3, 52.4, 62.9, 41.5, 56.7],\n",
       "       [60.6, 63.5, 60.7, 45.1, 48.4, 55.9, 44.4, 58.6, 40.8, 61.4, 36.5,\n",
       "        42.3, 57.5, 66.8, 42.4, 46.2, 41.4, 57.9, 51.9, 43. , 52.9, 43.3,\n",
       "        52.5, 49.9, 56.9, 54.4, 62.8, 44.1, 57.4, 55.1, 50.1, 48.7, 39.1,\n",
       "        41.8, 49.3, 44.8, 42.4, 45.5, 49.2, 52.5, 37. , 35.4, 58.5, 44.8,\n",
       "        41.6, 47.5, 38.4, 43.6, 55.1, 49.9],\n",
       "       [57.5, 50.5, 54.2, 42.3, 52.2, 47.8, 46.9, 55.9, 50.3, 49.4, 63.1,\n",
       "        42.8, 55.7, 56.3, 56.1, 64.9, 47.8, 67.8, 50.5, 58.2, 23.7, 43.4,\n",
       "        57.6, 57.2, 42.1, 46.8, 49.4, 56.6, 74.9, 53.3, 48. , 37.1, 47.8,\n",
       "        35.8, 32.8, 49.4, 46.6, 36.2, 49.5, 42.9, 56.9, 55.7, 48.7, 53.1,\n",
       "        56. , 38.1, 64.3, 47.4, 49.6, 40.2],\n",
       "       [59. , 47.1, 42.7, 55.5, 33.8, 45.5, 43.8, 51.4, 43.6, 49.4, 48.3,\n",
       "        51.2, 56.1, 50.9, 65. , 56.9, 51.3, 43. , 55.1, 53.1, 52.3, 47.9,\n",
       "        34.9, 56.7, 43.8, 60. , 52.2, 65.4, 43.5, 51.3, 58.3, 51.6, 46.4,\n",
       "        54.4, 47.6, 57.6, 50. , 28.2, 53.7, 42.5, 45.6, 44.2, 40.2, 62.8,\n",
       "        55.3, 67.8, 45.4, 59.6, 53.9, 46.3],\n",
       "       [56.4, 51.5, 46.3, 34.4, 51.9, 56.7, 57.4, 54.9, 48.3, 54.8, 55.9,\n",
       "        51.3, 51.3, 41.1, 58.4, 59. , 61.9, 48.9, 51.5, 54.5, 33.3, 51.8,\n",
       "        32.4, 41. , 47.4, 29.9, 50.9, 50.3, 52.1, 40.8, 33.9, 48.3, 58.5,\n",
       "        62. , 52.7, 54. , 63.5, 55.1, 54.5, 39. , 36.9, 42.6, 45.7, 29.7,\n",
       "        44.4, 33.9, 60.2, 51.2, 43. , 53.7],\n",
       "       [23.7, 55.7, 51.1, 53.6, 32. , 62.7, 46.8, 62.4, 46.8, 42.3, 54.8,\n",
       "        58.4, 57.1, 51.5, 50.7, 43.9, 32.4, 51. , 38.2, 47.7, 47.4, 31.3,\n",
       "        50.3, 50.7, 59.5, 60.1, 46.8, 52.2, 38.9, 46.7, 58.3, 50.4, 41.1,\n",
       "        73.7, 69.4, 52.9, 26.9, 55.9, 45.7, 48.3, 48.9, 52.6, 67. , 60.3,\n",
       "        43. , 53.5, 44.9, 61.2, 39.5, 48.4],\n",
       "       [43.9, 67.1, 55.2, 63.4, 62.9, 40.6, 53.3, 58.6, 62.1, 38.2, 35.8,\n",
       "        46.6, 36. , 46. , 57.5, 56.7, 38.7, 47.7, 51.2, 34.2, 61.3, 44. ,\n",
       "        35.8, 39.3, 50.6, 52.7, 58. , 34.3, 44.7, 53.2, 38.3, 53.8, 60.8,\n",
       "        35. , 42.1, 52.7, 47.6, 64.1, 48.4, 43.4, 62.8, 50.7, 45.9, 55.3,\n",
       "        75.2, 44.4, 46.2, 57.2, 53.5, 55.5],\n",
       "       [43.4, 28.7, 51.7, 49.2, 58.6, 58.8, 50.7, 62. , 50.9, 44.6, 54.9,\n",
       "        47.9, 58.1, 35.7, 44.2, 60.5, 48.4, 44.5, 47.5, 54.6, 43.4, 70.6,\n",
       "        50.9, 49.9, 61.8, 59.7, 50.4, 44.1, 42.3, 41.5, 46.8, 54.1, 47.2,\n",
       "        49.7, 66. , 54.8, 51. , 63.8, 35.9, 40.6, 41.4, 45. , 57.7, 51.8,\n",
       "        55.3, 56.7, 52.7, 49.3, 45.6, 61.8],\n",
       "       [57.7, 43.1, 35.3, 51.4, 59.3, 51.6, 53. , 49.8, 55.4, 44.7, 47.6,\n",
       "        65.4, 54.6, 49.7, 33.7, 38.7, 55.3, 38.6, 64.8, 44.9, 44.8, 41.5,\n",
       "        44.9, 41.5, 45.6, 55. , 44.8, 45.1, 35.3, 50. , 64.1, 54.5, 61.9,\n",
       "        44.9, 45.3, 50.8, 36.8, 52. , 62. , 48.6, 36.6, 38.8, 62.1, 43.1,\n",
       "        54.9, 59.1, 47.5, 43.9, 42.5, 44. ],\n",
       "       [48.8, 62.6, 47.2, 32.4, 52.3, 43.6, 48.8, 57.9, 43.2, 42.3, 64.4,\n",
       "        50.5, 35.7, 49.2, 65.3, 33.2, 35. , 45.3, 46. , 53.3, 43.8, 49.9,\n",
       "        63. , 61.3, 38.8, 63.4, 48.4, 43.2, 55.4, 60.7, 39.9, 42.3, 48.3,\n",
       "        59.4, 42.5, 52.3, 55.5, 32.8, 54. , 45.4, 50.6, 49.8, 32.4, 52.9,\n",
       "        43.5, 48.5, 51.1, 41.3, 61. , 51.8],\n",
       "       [60.5, 33.5, 57.2, 54.9, 53.5, 38.1, 53.6, 52.9, 61.3, 24.8, 51.7,\n",
       "        50.9, 44.9, 51.4, 65.1, 51.3, 45. , 41.7, 38.1, 67.4, 57.3, 49.7,\n",
       "        52.2, 46. , 43.2, 63. , 71.7, 53.4, 48. , 58.2, 29.2, 49.5, 50. ,\n",
       "        44.7, 57.2, 42.9, 54.3, 48.3, 60.8, 56.1, 48.6, 54.4, 62.5, 39.7,\n",
       "        43.3, 50.5, 50.6, 41.5, 35.2, 47.8]])"
      ]
     },
     "execution_count": 88,
     "metadata": {},
     "output_type": "execute_result"
    }
   ],
   "source": [
    "np.mean(np.split(A, 10), axis=0)"
   ]
  },
  {
   "cell_type": "markdown",
   "metadata": {},
   "source": [
    "# Задание 2.10 (4 балла)\n",
    "\n",
    "\"Разверните\" массив `A` в одномерный массив. Оставьте в нём только уникальные элементы в том же порядке, в котором они встречаются в массиве. Используйте [np.unique()](https://numpy.org/doc/stable/reference/generated/numpy.unique.html)"
   ]
  },
  {
   "cell_type": "code",
   "execution_count": 89,
   "metadata": {},
   "outputs": [
    {
     "data": {
      "text/plain": [
       "array([82, 64, 46, 12,  6, 74, 41, 51, 62, 69, 88, 20, 45, 42, 91,  1, 21,\n",
       "        9, 67, 58, 40, 87, 60, 93, 31, 13, 84, 70, 68, 81, 61, 15, 96, 49,\n",
       "       34, 77, 11, 55,  7,  4, 33, 17, 38, 78, 66, 37, 36, 30,  8, 44, 47,\n",
       "        5, 92, 56, 26, 18, 63, 94, 72, 43, 76, 80, 32, 90,  3, 19, 29, 35,\n",
       "        0, 79, 95, 89, 25, 99, 57, 28, 50, 59, 85, 54, 23, 86, 75, 24, 73,\n",
       "       39, 27, 71, 48, 65, 16, 14, 98, 10, 53, 22, 52, 83,  2, 97])"
      ]
     },
     "execution_count": 89,
     "metadata": {},
     "output_type": "execute_result"
    }
   ],
   "source": [
    "_, ind = np.unique(A, return_index=True)\n",
    "H = A.reshape((1, len(A) * len(A[0])))\n",
    "H[0][np.sort(ind)]"
   ]
  },
  {
   "cell_type": "markdown",
   "metadata": {},
   "source": [
    "# Задание 2.11 (3 балла)\n",
    "\n",
    "Создайте одномерный массив размерности $200$, в котором каждый элемент - евклидово расстояние между соответствующей строкой `A` и \"средней\" строкой `A`"
   ]
  },
  {
   "cell_type": "code",
   "execution_count": 90,
   "metadata": {},
   "outputs": [
    {
     "data": {
      "text/plain": [
       "array([204.53468239, 195.50965782, 189.09454328, 178.89372907,\n",
       "       212.38833843, 200.61105727, 222.45302043, 208.6669267 ,\n",
       "       222.78363113, 218.87979875, 193.09154901, 195.83486998,\n",
       "       181.1664326 , 228.57656551, 182.69678788, 203.98964753,\n",
       "       188.61886518, 190.53841161, 204.18828639, 209.27060544,\n",
       "       206.98711627, 181.54034345, 202.57671707, 189.30886482,\n",
       "       200.10851131, 208.14652603, 219.64877942, 221.11355974,\n",
       "       203.46733472, 206.08264434, 207.07862347, 199.59806186,\n",
       "       194.70933799, 204.07833373, 204.6491053 , 225.79567378,\n",
       "       200.60958676, 196.13937978, 191.68817465, 218.12119636,\n",
       "       202.50700309, 196.22396974, 209.83061335, 204.08541423,\n",
       "       210.60630641, 209.32423725, 197.38692029, 193.72244656,\n",
       "       190.02146274, 217.29640195, 197.38517244, 205.74835674,\n",
       "       212.56447563, 205.89765977, 207.8793311 , 190.7518186 ,\n",
       "       198.15414782, 194.4961087 , 200.84789344, 188.0203348 ,\n",
       "       210.9707712 , 195.64548628, 215.41227054, 196.32655526,\n",
       "       202.48206414, 205.23154314, 202.9366066 , 203.96133531,\n",
       "       195.55220863, 187.27564257, 205.72599811, 182.36163604,\n",
       "       202.24110932, 211.67698576, 211.66080483, 185.28034515,\n",
       "       214.18175996, 204.2379404 , 191.5314499 , 200.42918026,\n",
       "       219.24592653, 200.44280057, 198.27116861, 205.95955015,\n",
       "       205.05578826, 193.2780285 , 186.5262885 , 196.35077362,\n",
       "       199.8340469 , 220.86083016, 198.62154037, 214.5060519 ,\n",
       "       191.67505393, 185.66196783, 191.43287675, 198.23916439,\n",
       "       212.41220845, 202.55410709, 215.50627903, 207.64899783,\n",
       "       210.99541772, 186.65076024, 211.16277205, 224.07194447,\n",
       "       215.09087917, 194.82044631, 196.47327121, 212.70337632,\n",
       "       242.84527234, 210.81232483, 189.60500073, 192.12156646,\n",
       "       199.3344333 , 197.09316655, 203.28011782, 208.89687958,\n",
       "       185.03301408, 195.26865161, 198.95644322, 210.38059868,\n",
       "       188.51168744, 206.4406847 , 198.15934573, 191.78356629,\n",
       "       191.84998384, 175.02084533, 240.79505041, 205.69870272,\n",
       "       215.98246758, 212.69822825, 215.25288918, 201.58324906,\n",
       "       215.89040345, 212.44993834, 183.41353903, 216.58120025,\n",
       "       204.06975842, 213.57571561, 200.40188697, 209.63503119,\n",
       "       208.53603118, 200.82879848, 174.13786578, 208.44962533,\n",
       "       191.11199936, 207.73648283, 224.62187405, 221.34580705,\n",
       "       205.23885183, 204.12093548, 202.582073  , 177.6105467 ,\n",
       "       208.12014871, 218.19650845, 204.11574241, 218.98076696,\n",
       "       195.96498743, 221.07061383, 199.08349078, 196.96729754,\n",
       "       196.58536644, 205.28812995, 190.71417436, 200.99882164,\n",
       "       197.15997642, 181.97864243, 207.7542931 , 203.04594628,\n",
       "       188.36089377, 192.24948973, 205.40583317, 215.2365357 ,\n",
       "       180.73391021, 202.39045506, 204.80289622, 200.52240847,\n",
       "       166.65085148, 214.01272462, 224.43243148, 215.07813999,\n",
       "       201.62650198, 233.51628701, 186.7748278 , 189.78847779,\n",
       "       209.30947494, 210.5681512 , 197.49695263, 209.38714454,\n",
       "       200.40293486, 179.11481318, 207.40290813, 216.61266422,\n",
       "       211.66200958, 222.58903005, 206.5278342 , 205.63184651,\n",
       "       206.14054987, 185.61429444, 189.69550944, 206.18367127])"
      ]
     },
     "execution_count": 90,
     "metadata": {},
     "output_type": "execute_result"
    }
   ],
   "source": [
    "np.linalg.norm(A - np.mean(A, axis=0), axis=1)\n"
   ]
  },
  {
   "cell_type": "markdown",
   "metadata": {},
   "source": [
    "# Задание 2.12 (2 балла)\n",
    "\n",
    "Создайте новый массив, который состоит из элементов `A`, измененных по следующим правилам:\n",
    "- если элемент меньше $50$, то он умножается на $2$\n",
    "- в противном случае он умножается на $3$\n",
    "\n",
    "Используйте [np.where()](https://numpy.org/doc/stable/reference/generated/numpy.where.html)"
   ]
  },
  {
   "cell_type": "code",
   "execution_count": 93,
   "metadata": {},
   "outputs": [
    {
     "data": {
      "text/plain": [
       "array([[246, 192,  92, ..., 288,  98,  68],\n",
       "       [ 40, 231,  22, ..., 270,   6,  42],\n",
       "       [ 38,  86,   8, ..., 183,  74, 201],\n",
       "       ...,\n",
       "       [156, 180, 246, ...,  98,  54, 237],\n",
       "       [189,  16,  30, ..., 252, 186,  14],\n",
       "       [ 36,  94, 282, ..., 213,   6, 171]])"
      ]
     },
     "execution_count": 93,
     "metadata": {},
     "output_type": "execute_result"
    }
   ],
   "source": [
    "np.where(A < 50, A * 2, A * 3)"
   ]
  },
  {
   "cell_type": "markdown",
   "metadata": {},
   "source": [
    "# Задание 2.13 (7 баллов)\n",
    "\n",
    "Разверните массив `A` в одномерный массив. Создайте три новых массива, подсчитав скользящие средние по окнам $3$, $5$, $10$. Найдите сумму этих массивов, выровнив из размерности нулями справа\n",
    "\n",
    "*Tip: реализуйте функцию, которая считает скользящее среднее. Используйте [np.cumsum()](https://numpy.org/doc/stable/reference/generated/numpy.cumsum.html) или [np.convolve()](https://numpy.org/doc/stable/reference/generated/numpy.convolve.html)*"
   ]
  },
  {
   "cell_type": "code",
   "execution_count": 113,
   "metadata": {},
   "outputs": [
    {
     "data": {
      "text/plain": [
       "array([156.7       , 132.36666667, 104.03333333, ..., 136.8       ,\n",
       "        46.33333333,  43.66666667])"
      ]
     },
     "execution_count": 113,
     "metadata": {},
     "output_type": "execute_result"
    }
   ],
   "source": [
    "I1 = np.convolve(A.reshape((1, len(A) * len(A[0])))[0], np.ones(3), 'valid') / 3\n",
    "I2 = np.convolve(A.reshape((1, len(A) * len(A[0])))[0], np.ones(5), 'valid') / 5\n",
    "I3 = np.convolve(A.reshape((1, len(A) * len(A[0])))[0], np.ones(10), 'valid') / 10\n",
    "I2 = np.concatenate((I2,  np.zeros(I1.shape[0] - I2.shape[0])))\n",
    "I3 = np.concatenate((I3,  np.zeros(I1.shape[0] - I3.shape[0])))\n",
    "I1 + I2 + I3 "
   ]
  },
  {
   "cell_type": "markdown",
   "metadata": {},
   "source": [
    "# Задание 2.14 (8 баллов)\n",
    "\n",
    "Постройте график функции $$f(x) = (5  \\sin(2x) - \\cos^2(x) - 1 + |x^3| - x^2) / (x^2 + 1)$$  \n",
    "\n",
    "и производной от этой функции.  Найдите минимум с помощью `scipy` и обозначьте его на графике. На этой же оси постройте графики скользящего среднего этой функции с окном $1$, $2$, $5$."
   ]
  },
  {
   "cell_type": "code",
   "execution_count": 11,
   "metadata": {},
   "outputs": [
    {
     "name": "stdout",
     "output_type": "stream",
     "text": [
      "Optimization terminated successfully.\n",
      "         Current function value: -4.882074\n",
      "         Iterations: 6\n",
      "         Function evaluations: 16\n",
      "         Gradient evaluations: 8\n"
     ]
    },
    {
     "data": {
      "image/png": "[encoded data removed]",
      "text/plain": [
       "<Figure size 640x480 with 1 Axes>"
      ]
     },
     "metadata": {},
     "output_type": "display_data"
    }
   ],
   "source": [
    "def f(x: np.ndarray) -> np.ndarray:\n",
    "    return (5*np.sin(2*x) - np.cos(x)**2 - 1 + np.abs(x)**3 - x**2) / (x**2 + 1)\n",
    "\n",
    "def df(f: Callable[[np.ndarray], np.ndarray] , x: np.ndarray) -> np.ndarray:\n",
    "    return derivative(f, x)\n",
    "\n",
    "def moving_average(x: np.ndarray, n: int) -> np.ndarray:\n",
    "    return np.convolve(x, np.ones(n)/n, mode='valid')\n",
    "\n",
    "x = np.linspace(-6, 6, 500)\n",
    "y = f(x)\n",
    "dy = df(f, x)\n",
    "plt.plot(x, y, label='f(x)')\n",
    "plt.plot(x, dy, label='df(x)')\n",
    "\n",
    "min = sp.optimize.fmin_bfgs(f, 0, full_output=True)\n",
    "x_min, y_min = min[0][0], min[1]\n",
    "plt.plot(x_min, y_min, 'o', label=\"min\") \n",
    "\n",
    "y1, y2, y5 = moving_average(y, 1), moving_average(y, 2), moving_average(y, 5)\n",
    "plt.plot(x, y1, label=\"mov_avg 1\")\n",
    "plt.plot(x[:len(y2)], y2, label=\"mov_avg 2\")\n",
    "plt.plot(x[:len(y5)], y5, label=\"mov_avg 5\")\n",
    "\n",
    "\n",
    "plt.legend()\n",
    "plt.show()"
   ]
  },
  {
   "cell_type": "markdown",
   "metadata": {},
   "source": [
    "# Задание 2.15 (10 баллов)\n",
    "\n",
    "Есть следующий алгоритм семплинирования, на вход функции подается вектор из целых положительных чисел и число семплов."
   ]
  },
  {
   "cell_type": "code",
   "execution_count": 28,
   "metadata": {},
   "outputs": [
    {
     "name": "stdout",
     "output_type": "stream",
     "text": [
      "795 µs ± 122 µs per loop (mean ± std. dev. of 7 runs, 1,000 loops each)\n"
     ]
    }
   ],
   "source": [
    "from typing import List \n",
    "\n",
    "def sample(x: List[int], c: int) -> List[int]:\n",
    "    assert len(x) > 0\n",
    "    \n",
    "    s = np.sum(x)\n",
    "    res = []\n",
    "    for _ in range(c):\n",
    "        val = s * np.random.random()\n",
    "        cur, idx = 0, 0        \n",
    "        while cur + x[idx] <= val:\n",
    "            cur += x[idx]\n",
    "            idx += 1\n",
    "            \n",
    "        res.append(idx)\n",
    "    return res\n",
    "\n",
    "            \n",
    "%timeit sample([50, 3, 1, 7, 20], 300)   "
   ]
  },
  {
   "cell_type": "markdown",
   "metadata": {},
   "source": [
    "Реализуйте данный алгоритм более оптимальным способом на массивах `numpy`, без использования циклов. Проверьте корректность и идентичность алгоритмов семплирования с помощью статистических тестов."
   ]
  },
  {
   "cell_type": "code",
   "execution_count": 25,
   "metadata": {},
   "outputs": [
    {
     "name": "stdout",
     "output_type": "stream",
     "text": [
      "136 µs ± 6.51 µs per loop (mean ± std. dev. of 7 runs, 10,000 loops each)\n"
     ]
    }
   ],
   "source": [
    "def my_sample(x: np.ndarray, c: int) -> np.ndarray:\n",
    "    assert len(x) > 0\n",
    "    return np.random.choice(np.arange(len(x)), size=c, p=x/np.sum(x))\n",
    "\n",
    "%timeit my_sample(np.array([50, 3, 1, 7, 20]), 300) "
   ]
  },
  {
   "attachments": {},
   "cell_type": "markdown",
   "metadata": {},
   "source": [
    "Алгоритм, написанный на numpy баботает быстрее.\n",
    "Проведем проверку идентичности алгоритмов с помощью t-критерия Стьюдента для проверки равенства матожидания выборок, а также теста Колмогорова-Смирнова для проверки равны ли распределения выборок."
   ]
  },
  {
   "cell_type": "code",
   "execution_count": 67,
   "metadata": {},
   "outputs": [
    {
     "name": "stdout",
     "output_type": "stream",
     "text": [
      "-0.09371346908410488 0.9253461667277948\n",
      "0.026 0.8881734182535203\n"
     ]
    }
   ],
   "source": [
    "from scipy.stats import ttest_ind\n",
    "samples1 = sample([50, 3, 1, 7, 20, 4, 25, 37, 82], 1000)\n",
    "samples2 = list(my_sample([50, 3, 1, 7, 20, 4, 25, 37, 82], 1000))\n",
    "stat, p = ttest_ind(samples1, samples2)\n",
    "print(stat, p)\n",
    "\n",
    "from scipy.stats import kstest\n",
    "corr, p = kstest(samples1, samples2)\n",
    "print(corr, p)"
   ]
  },
  {
   "attachments": {},
   "cell_type": "markdown",
   "metadata": {},
   "source": [
    "p-значение и там и там > 0.05, следовательно матожидания и распределения равны."
   ]
  },
  {
   "cell_type": "markdown",
   "metadata": {},
   "source": [
    "# Задание 2.16 (5 баллов)\n",
    "\n",
    "Есть следующий алгоритм \"случайного блуждания\""
   ]
  },
  {
   "cell_type": "code",
   "execution_count": 41,
   "metadata": {},
   "outputs": [
    {
     "name": "stdout",
     "output_type": "stream",
     "text": [
      "6.63 ms ± 198 µs per loop (mean ± std. dev. of 7 runs, 100 loops each)\n"
     ]
    }
   ],
   "source": [
    "import random \n",
    "\n",
    "def walk(n: int):\n",
    "    cur_position = 0\n",
    "    for i in range(n):\n",
    "        cur_position += random.choice([-3, -1, 0, 2, 3])\n",
    "\n",
    "    return cur_position\n",
    "\n",
    "%timeit walk(10_000)"
   ]
  },
  {
   "cell_type": "markdown",
   "metadata": {},
   "source": [
    "Реализуйте более эффективную версию с помощью `numpy`, сравните производительность (используя, например, magic `timeit`). Воспользовавшись [kdeplot()](https://seaborn.pydata.org/generated/seaborn.kdeplot.html) или аналогами, постройте график распределения значений `walk(10_000)` на каком-то разумном числе запусков. "
   ]
  },
  {
   "cell_type": "code",
   "execution_count": 42,
   "metadata": {},
   "outputs": [
    {
     "name": "stdout",
     "output_type": "stream",
     "text": [
      "243 µs ± 890 ns per loop (mean ± std. dev. of 7 runs, 1,000 loops each)\n"
     ]
    }
   ],
   "source": [
    "def numpy_walk(n: int):\n",
    "    return np.random.choice(np.array([-3, -1, 0, 2, 3]), size=n).sum()\n",
    "\n",
    "%timeit numpy_walk(10_000)"
   ]
  },
  {
   "attachments": {},
   "cell_type": "markdown",
   "metadata": {},
   "source": [
    "Видно, что реализованный на numpy алгоритм работает намного быстрее"
   ]
  },
  {
   "cell_type": "code",
   "execution_count": 43,
   "metadata": {},
   "outputs": [
    {
     "data": {
      "image/png": "[encoded data removed]",
      "text/plain": [
       "<Figure size 640x480 with 1 Axes>"
      ]
     },
     "metadata": {},
     "output_type": "display_data"
    }
   ],
   "source": [
    "sns.kdeplot(data=[walk(10000) for _ in range(700)],  label='walk')\n",
    "sns.kdeplot(data=[numpy_walk(10000) for _ in range(700)],  label='numpy_walk')\n",
    "plt.legend()\n",
    "plt.show()"
   ]
  },
  {
   "attachments": {},
   "cell_type": "markdown",
   "metadata": {},
   "source": [
    "Графики очень схожи."
   ]
  },
  {
   "cell_type": "markdown",
   "metadata": {},
   "source": [
    "# Задание 2.17 (5 баллов)\n",
    "\n",
    "Имеется функция, которая проделывает достаточно странные манипуляции с массивом `numpy`"
   ]
  },
  {
   "cell_type": "code",
   "execution_count": 44,
   "metadata": {},
   "outputs": [
    {
     "data": {
      "text/plain": [
       "-0.09337104352028398"
      ]
     },
     "execution_count": 44,
     "metadata": {},
     "output_type": "execute_result"
    }
   ],
   "source": [
    "import numpy.typing as npt\n",
    "\n",
    "def strange_conv(a: npt.NDArray[np.float64]) -> np.float64:\n",
    "    x = a.shape[0]\n",
    "    y = a.shape[1]\n",
    "\n",
    "    t = 1.\n",
    "    for y in range(y - 5):\n",
    "        for x in range(x - 3):\n",
    "            c = 1.5 * a[y+1, x+2] - a[y+5, x+3] * a[y, x] + 0.2 * a[y+4, x]\n",
    "            t = 0.2 * t + 0.8 * c\n",
    "\n",
    "    return t\n",
    "\n",
    "\n",
    "a = np.random.random((10000, 10000))\n",
    "strange_conv(a)\n"
   ]
  },
  {
   "cell_type": "markdown",
   "metadata": {},
   "source": [
    "Оптимизируйте данную функцию с помощью (2 на выбор):\n",
    "- [Numba](https://numba.pydata.org)\n",
    "- `Cython` (+5 баллов)\n",
    "- [Taichi](https://github.com/taichi-dev/taichi) (+5 баллов)\n",
    "- `Pythran `[[1]](https://pythran.readthedocs.io/en/latest/), [[2]](https://serge-sans-paille.github.io/pythran-stories/pythran-tutorial.html) (+2 балла)\n",
    "\n",
    "Сравните производительность."
   ]
  },
  {
   "cell_type": "code",
   "execution_count": 68,
   "metadata": {},
   "outputs": [
    {
     "name": "stdout",
     "output_type": "stream",
     "text": [
      "The Cython extension is already loaded. To reload it, use:\n",
      "  %reload_ext Cython\n"
     ]
    }
   ],
   "source": [
    "%load_ext Cython"
   ]
  },
  {
   "cell_type": "code",
   "execution_count": 48,
   "metadata": {},
   "outputs": [
    {
     "name": "stdout",
     "output_type": "stream",
     "text": [
      "[Taichi] version 1.4.0, llvm 15.0.1, commit fbe92fd8, win, python 3.10.8\n"
     ]
    },
    {
     "name": "stderr",
     "output_type": "stream",
     "text": [
      "c:\\Users\\yuryp\\AppData\\Local\\Programs\\Python\\Python310\\lib\\site-packages\\tqdm\\auto.py:22: TqdmWarning: IProgress not found. Please update jupyter and ipywidgets. See https://ipywidgets.readthedocs.io/en/stable/user_install.html\n",
      "  from .autonotebook import tqdm as notebook_tqdm\n"
     ]
    },
    {
     "name": "stdout",
     "output_type": "stream",
     "text": [
      "[Taichi] Starting on arch=x64\n"
     ]
    }
   ],
   "source": [
    "import taichi as ti\n",
    "\n",
    "ti.init(arch=ti.cpu)\n",
    "\n",
    "@ti.kernel\n",
    "def strange_conv_taichi(a: ti.types.ndarray()) -> ti.float64:\n",
    "    x = a.shape[0]\n",
    "    y = a.shape[1]\n",
    "    t = 1.\n",
    "    for y in ti.ndrange(y - 5):\n",
    "        for x in ti.ndrange(x - 3):\n",
    "            c = 1.5 * a[y+1, x+2] - a[y+5, x+3] * a[y, x] + 0.2 * a[y+4, x]\n",
    "            t = 0.2 * t + 0.8 * c\n",
    "\n",
    "    return t"
   ]
  },
  {
   "cell_type": "code",
   "execution_count": 70,
   "metadata": {},
   "outputs": [],
   "source": [
    "%%cython\n",
    "\n",
    "cimport numpy\n",
    "\n",
    "def strange_conv_cython(numpy.ndarray['double', ndim=2] a):\n",
    "    cdef int x = a.shape[0]\n",
    "    cdef int y = a.shape[1]\n",
    "\n",
    "    cdef double t = 1.\n",
    "    cdef double c = 0.\n",
    "    for y in range(y - 5):\n",
    "        for x in range(x - 3):\n",
    "            c = 1.5 * a[y+1, x+2] - a[y+5, x+3] * a[y, x] + 0.2 * a[y+4, x]\n",
    "            t = 0.2 * t + 0.8 * c\n",
    "\n",
    "    return t"
   ]
  },
  {
   "cell_type": "code",
   "execution_count": 71,
   "metadata": {},
   "outputs": [
    {
     "name": "stdout",
     "output_type": "stream",
     "text": [
      "32.3 s ± 2.03 s per loop (mean ± std. dev. of 7 runs, 1 loop each)\n"
     ]
    }
   ],
   "source": [
    "%%timeit\n",
    "strange_conv(a)"
   ]
  },
  {
   "cell_type": "code",
   "execution_count": 72,
   "metadata": {},
   "outputs": [
    {
     "name": "stdout",
     "output_type": "stream",
     "text": [
      "650 ms ± 68.8 ms per loop (mean ± std. dev. of 7 runs, 1 loop each)\n"
     ]
    }
   ],
   "source": [
    "%%timeit\n",
    "strange_conv_taichi(a)"
   ]
  },
  {
   "cell_type": "code",
   "execution_count": 73,
   "metadata": {},
   "outputs": [
    {
     "name": "stdout",
     "output_type": "stream",
     "text": [
      "183 ms ± 14.6 ms per loop (mean ± std. dev. of 7 runs, 1 loop each)\n"
     ]
    }
   ],
   "source": [
    "%%timeit\n",
    "strange_conv_cython(a)"
   ]
  },
  {
   "attachments": {},
   "cell_type": "markdown",
   "metadata": {},
   "source": [
    "Оптимизированная с помощью Taichi функция работает в 50 раз быстрее.\n",
    "\n",
    "Оптимизированная с помощью Cython функция работает в 175 раз быстрее."
   ]
  }
 ],
 "metadata": {
  "kernelspec": {
   "display_name": "Python 3.10.8 64-bit",
   "language": "python",
   "name": "python3"
  },
  "language_info": {
   "codemirror_mode": {
    "name": "ipython",
    "version": 3
   },
   "file_extension": ".py",
   "mimetype": "text/x-python",
   "name": "python",
   "nbconvert_exporter": "python",
   "pygments_lexer": "ipython3",
   "version": "3.10.8"
  },
  "orig_nbformat": 4,
  "vscode": {
   "interpreter": {
    "hash": "c42b99d38399f9a09ebe7f1090e7fcd70885c3e9b7712303eb018f272c7a5afb"
   }
  }
 },
 "nbformat": 4,
 "nbformat_minor": 2
}
